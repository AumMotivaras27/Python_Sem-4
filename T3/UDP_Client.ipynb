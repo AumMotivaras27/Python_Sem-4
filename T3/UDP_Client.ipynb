{
 "cells": [
  {
   "cell_type": "code",
   "execution_count": 1,
   "metadata": {},
   "outputs": [
    {
     "name": "stdout",
     "output_type": "stream",
     "text": [
      "Enter Data to Send:Hi\n",
      "Ready to Receive\n",
      "Received Data: b'bye'\n",
      "Enter Data to Send:Shruti Meet Prjapat\n",
      "Ready to Receive\n",
      "Received Data: b'b'\n",
      "Enter Data to Send:\n"
     ]
    }
   ],
   "source": [
    "import socket\n",
    "host = \"192.168.101.177\"\n",
    "port = 5102\n",
    "udp_client = socket.socket(type=socket.SOCK_DGRAM)\n",
    "while True:\n",
    "    data = input(\"Enter Data to Send:\")\n",
    "    if not data:\n",
    "        break\n",
    "    udp_client.sendto(data.encode(),(host,port))\n",
    "    print(\"Ready to Receive\")\n",
    "    data,addr = udp_client.recvfrom(1024)\n",
    "    if not data:\n",
    "        break\n",
    "    print(\"Received Data:\",data)\n",
    "udp_client.close()"
   ]
  },
  {
   "cell_type": "code",
   "execution_count": null,
   "metadata": {},
   "outputs": [],
   "source": []
  }
 ],
 "metadata": {
  "kernelspec": {
   "display_name": "Python 3",
   "language": "python",
   "name": "python3"
  },
  "language_info": {
   "codemirror_mode": {
    "name": "ipython",
    "version": 3
   },
   "file_extension": ".py",
   "mimetype": "text/x-python",
   "name": "python",
   "nbconvert_exporter": "python",
   "pygments_lexer": "ipython3",
   "version": "3.8.5"
  }
 },
 "nbformat": 4,
 "nbformat_minor": 4
}
