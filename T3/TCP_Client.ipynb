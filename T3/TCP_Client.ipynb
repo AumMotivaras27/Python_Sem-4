{
 "cells": [
  {
   "cell_type": "code",
   "execution_count": null,
   "metadata": {},
   "outputs": [],
   "source": [
    "import socket\n",
    "host=socket.gethostname()\n",
    "print(host)\n",
    "port=8000\n",
    "addr=(host,port)\n",
    "client_socket=socket.socket()\n",
    "client_socket.connect(addr)\n",
    "msg=input(\"==>\")\n",
    "while msg!=\"\":\n",
    "    client_socket.send(msg.encode())\n",
    "    data=client_socket.recv(1024).decode()\n",
    "    print(\"received from server\",data)\n",
    "    msg=input(\"==>\")\n",
    "client_socket.close()\n"
   ]
  }
 ],
 "metadata": {
  "kernelspec": {
   "display_name": "Python 3",
   "language": "python",
   "name": "python3"
  },
  "language_info": {
   "codemirror_mode": {
    "name": "ipython",
    "version": 3
   },
   "file_extension": ".py",
   "mimetype": "text/x-python",
   "name": "python",
   "nbconvert_exporter": "python",
   "pygments_lexer": "ipython3",
   "version": "3.8.5"
  }
 },
 "nbformat": 4,
 "nbformat_minor": 4
}
