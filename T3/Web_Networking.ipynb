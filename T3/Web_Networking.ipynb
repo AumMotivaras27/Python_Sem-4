{
 "cells": [
  {
   "cell_type": "code",
   "execution_count": null,
   "metadata": {},
   "outputs": [],
   "source": [
    "import socket\n",
    "mysock=socket.socket()\n",
    "mysock.connect((\"www.ljku.in\",80))\n",
    "cmd=\"GET https://www.ljku.edu.in/lju-at-a-glance HTTP/1.0\\n\\n\".encode()\n",
    "mysock.send(cmd)\n",
    "while True:\n",
    "    data=mysock.recv(1024)\n",
    "    if len(data)<1:\n",
    "        break\n",
    "    print(data.decode(),end=\" \")\n",
    "mysock.close()"
   ]
  }
 ],
 "metadata": {
  "kernelspec": {
   "display_name": "Python 3",
   "language": "python",
   "name": "python3"
  },
  "language_info": {
   "codemirror_mode": {
    "name": "ipython",
    "version": 3
   },
   "file_extension": ".py",
   "mimetype": "text/x-python",
   "name": "python",
   "nbconvert_exporter": "python",
   "pygments_lexer": "ipython3",
   "version": "3.8.5"
  }
 },
 "nbformat": 4,
 "nbformat_minor": 4
}
