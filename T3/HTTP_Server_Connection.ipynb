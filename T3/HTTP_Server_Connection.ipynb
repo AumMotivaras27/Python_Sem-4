{
 "cells": [
  {
   "cell_type": "code",
   "execution_count": null,
   "metadata": {},
   "outputs": [
    {
     "name": "stdout",
     "output_type": "stream",
     "text": [
      "acess http://localhost:9051\n",
      "GET / HTTP/1.1\n",
      "Host: localhost:9051\n",
      "Connection: keep-alive\n",
      "sec-ch-ua: \"Chromium\";v=\"136\", \"Google Chrome\";v=\"136\", \"Not.A/Brand\";v=\"99\"\n",
      "sec-ch-ua-mobile: ?0\n",
      "sec-ch-ua-platform: \"Windows\"\n",
      "Upgrade-Insecure-Requests: 1\n",
      "User-Agent: Mozilla/5.0 (Windows NT 10.0; Win64; x64) AppleWebKit/537.36 (KHTML, like Gecko) Chrome/136.0.0.0 Safari/537.36\n",
      "Accept: text/html,application/xhtml+xml,application/xml;q=0.9,image/avif,image/webp,image/apng,*/*;q=0.8,application/signed-exchange;v=b3;q=0.7\n",
      "Sec-Fetch-Site: same-site\n",
      "Sec-Fetch-Mode: navigate\n",
      "Sec-Fetch-User: ?1\n",
      "Sec-Fetch-Dest: document\n",
      "Referer: http://localhost:8888/\n",
      "Accept-Encoding: gzip, deflate, br, zstd\n",
      "Accept-Language: en-US,en;q=0.9\n",
      "Cookie: _xsrf=2|bf32c70c|afcf8e4a7cbe5be2e01eaba5e2fc7939|1746514897; username-localhost-8888=\"2|1:0|10:1748316046|23:username-localhost-8888|44:MTZmNzhlZmZkMDQxNDNhMzhiMzY0OTM4MGY0MDFmYmI=|3b7e87a452aff8e99aa78184ae29bbedac200ab150129af7bf150c83d53eb717\"\n",
      "\n",
      "\n",
      "GET /favicon.ico HTTP/1.1\n",
      "Host: localhost:9051\n",
      "Connection: keep-alive\n",
      "sec-ch-ua-platform: \"Windows\"\n",
      "User-Agent: Mozilla/5.0 (Windows NT 10.0; Win64; x64) AppleWebKit/537.36 (KHTML, like Gecko) Chrome/136.0.0.0 Safari/537.36\n",
      "sec-ch-ua: \"Chromium\";v=\"136\", \"Google Chrome\";v=\"136\", \"Not.A/Brand\";v=\"99\"\n",
      "sec-ch-ua-mobile: ?0\n",
      "Accept: image/avif,image/webp,image/apng,image/svg+xml,image/*,*/*;q=0.8\n",
      "Sec-Fetch-Site: same-origin\n",
      "Sec-Fetch-Mode: no-cors\n",
      "Sec-Fetch-Dest: image\n",
      "Referer: http://localhost:9051/\n",
      "Accept-Encoding: gzip, deflate, br, zstd\n",
      "Accept-Language: en-US,en;q=0.9\n",
      "Cookie: _xsrf=2|bf32c70c|afcf8e4a7cbe5be2e01eaba5e2fc7939|1746514897; username-localhost-8888=\"2|1:0|10:1748316046|23:username-localhost-8888|44:MTZmNzhlZmZkMDQxNDNhMzhiMzY0OTM4MGY0MDFmYmI=|3b7e87a452aff8e99aa78184ae29bbedac200ab150129af7bf150c83d53eb717\"\n",
      "\n",
      "\n",
      "\n"
     ]
    }
   ],
   "source": [
    "import socket\n",
    "def createserver():\n",
    "    serversocket=socket.socket()\n",
    "    serversocket.bind(('localhost',9051))\n",
    "    serversocket.listen()\n",
    "    while(1):\n",
    "        (clientsocket,addr)=serversocket.accept()\n",
    "        rd=clientsocket.recv(1024).decode()\n",
    "        print(rd)\n",
    "        data=\"\"\"HTTP/1.1 200 ok\\nContent-Type:text/html;charset=utf-8\\n\\n<html><body><h1>HelloWorld</h1></body></html>\\n\\n\"\"\"\n",
    "        clientsocket.send(data.encode())\n",
    "    serversocket.close()\n",
    "print(\"acess http://localhost:9051\")\n",
    "createserver()"
   ]
  }
 ],
 "metadata": {
  "kernelspec": {
   "display_name": "Python 3",
   "language": "python",
   "name": "python3"
  },
  "language_info": {
   "codemirror_mode": {
    "name": "ipython",
    "version": 3
   },
   "file_extension": ".py",
   "mimetype": "text/x-python",
   "name": "python",
   "nbconvert_exporter": "python",
   "pygments_lexer": "ipython3",
   "version": "3.8.5"
  }
 },
 "nbformat": 4,
 "nbformat_minor": 4
}
